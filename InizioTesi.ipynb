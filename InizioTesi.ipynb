{
 "cells": [
  {
   "cell_type": "code",
   "execution_count": 5,
   "id": "565f26fa-6718-40e3-b66e-daec6e064497",
   "metadata": {},
   "outputs": [],
   "source": [
    "import numpy as np\n",
    "import matplotlib.pyplot as plt\n",
    "import pandas as pd\n",
    "import scipy\n",
    "import rigidpy as rp"
   ]
  },
  {
   "cell_type": "markdown",
   "id": "225e82c0-2ce8-4c26-a221-1888cdebca73",
   "metadata": {},
   "source": [
    "Studio di un sistema formato da quattro punti collegati da delle molle, nel primo punto studieremo il sistema i cui collegamenti formato un quadrato in due dimensioni. Con l'utilizzo della libreria rigidpy.\n",
    "Definiamo per creare il nostro reticolo elastico i vettori di base, le coordinate dei nodi e i collegamenti.\n",
    "\n",
    "I vettori di base sono dati da \n",
    "\n",
    "v1 = [10, 0]\n",
    "\n",
    "\n",
    "\n",
    "v2 = [0, 10]\n",
    "\n",
    "\n",
    "Mentre i punti del reticolo iniziale hanno coordinate \n",
    "\n",
    "\n",
    "P1 = [0.1, 0.1]\n",
    "\n",
    "\n",
    "\n",
    "\n",
    "P2 = [0.1, 1.1]\n",
    "\n",
    "\n",
    "\n",
    "P3 = [1.1, 1.1]\n",
    "\n",
    "\n",
    "\n",
    "\n",
    "P4 = [1.1, 0.1]"
   ]
  },
  {
   "cell_type": "markdown",
   "id": "847a8cf1-54c3-45c4-aaf7-07a63be4671b",
   "metadata": {},
   "source": [
    "A questo punto carichiamo le coordinate dei punti, i vettori di base e i legami tra i punti in modo da costruire il reticolo iniziale. E di tale reticolo forniamo la rappresentazione, calcoliamo la matrice hessiana con relativi autovalori e autovettori."
   ]
  },
  {
   "cell_type": "code",
   "execution_count": 92,
   "id": "871207b5-66d8-4303-831e-ad1519e629f1",
   "metadata": {},
   "outputs": [
    {
     "name": "stdout",
     "output_type": "stream",
     "text": [
      "[]\n"
     ]
    },
    {
     "data": {
      "image/png": "[encoded data removed]",
      "text/plain": [
       "<Figure size 600x600 with 1 Axes>"
      ]
     },
     "metadata": {},
     "output_type": "display_data"
    },
    {
     "name": "stdout",
     "output_type": "stream",
     "text": [
      "[[ 1.  0.  0.  0.  0.  0. -1.  0.]\n",
      " [ 0.  1.  0. -1.  0.  0.  0.  0.]\n",
      " [ 0.  0.  1.  0. -1.  0.  0.  0.]\n",
      " [ 0. -1.  0.  1.  0.  0.  0.  0.]\n",
      " [ 0.  0. -1.  0.  1.  0.  0.  0.]\n",
      " [ 0.  0.  0.  0.  0.  1.  0. -1.]\n",
      " [-1.  0.  0.  0.  0.  0.  1.  0.]\n",
      " [ 0.  0.  0.  0.  0. -1.  0.  1.]]\n",
      "[[0.1 0.1]\n",
      " [0.1 1.1]\n",
      " [1.1 1.1]\n",
      " [1.1 0.1]]\n"
     ]
    }
   ],
   "source": [
    "coordinates = np.loadtxt(\"/Users/edoardonaggi/Desktop/TESI/Prova/coordinates.txt\")\n",
    "temp = np.loadtxt(\"/Users/edoardonaggi/Desktop/TESI/Prova/bonds.txt\")\n",
    "bonds = temp.astype(int)\n",
    "basis = np.loadtxt(\"/Users/edoardonaggi/Desktop/TESI/Prova/basis.txt\")\n",
    "F= rp.framework(coordinates,bonds,basis)\n",
    "F.visualize()\n",
    "\n",
    "print(F.hessianMatrix())\n",
    "print(coordinates)\n",
    "#Eigenvalues, Eigenvectors = np.linalg.eig(F.hessianMatrix())\n",
    "#print(Eigenvalues)\n",
    "#print(Eigenvectors)\n",
    "config = rp.configuration(coordinates,bonds,basis)\n",
    "Eigenvalues, Eigenvectors = F.eigenSpace(eigvals = None)\n"
   ]
  },
  {
   "cell_type": "markdown",
   "id": "940c83c1-61be-4dbb-bc29-e4212756112e",
   "metadata": {},
   "source": [
    "Notiamo dagli autovalori che i primi quattro sono considerabili tutti nulli, mentre gli altri quattro sono tutti uguali."
   ]
  },
  {
   "cell_type": "markdown",
   "id": "9c3ec012-043b-48ba-b619-cf34fe37feb1",
   "metadata": {},
   "source": [
    "Definisco una funzione per plottare l'autovettore legato ad un autovalore"
   ]
  },
  {
   "cell_type": "code",
   "execution_count": 93,
   "id": "9819fa6a-e433-4ab5-9eda-5431c761d041",
   "metadata": {},
   "outputs": [],
   "source": [
    "def eigenVector_plotting(number,coordinates,Eigenvalues,Eigenvectors):\n",
    "    print(\"Plottiamo l'autovettore relativo all'autovalore \" + str(Eigenvalues[number]))\n",
    "    V_coordinate_tot = Eigenvectors[number,:]\n",
    "    V_coordinate_0 = V_coordinate_tot[0:2]\n",
    "    V_coordinate_1 = V_coordinate_tot[2:4]\n",
    "    V_coordinate_2 = V_coordinate_tot[4:6]\n",
    "    V_coordinate_3 = V_coordinate_tot[6:8]\n",
    "    plt.arrow(coordinates[0,0],coordinates[0,1],V_coordinate_0[0],V_coordinate_0[1],head_width=0.1, head_length=0.1, color='r', length_includes_head=True)\n",
    "    plt.arrow(coordinates[1,0],coordinates[1,1],V_coordinate_1[0],V_coordinate_1[1],head_width=0.1, head_length=0.1, color='g', length_includes_head=True)\n",
    "    plt.arrow(coordinates[2,0],coordinates[2,1],V_coordinate_2[0],V_coordinate_2[1],head_width=0.1, head_length=0.1, color='y', length_includes_head=True)\n",
    "    plt.arrow(coordinates[3,0],coordinates[3,1],V_coordinate_3[0],V_coordinate_3[1],head_width=0.1, head_length=0.1, color='m', length_includes_head=True)\n",
    "    plt.plot(coordinates[0,0], coordinates[0,1], marker=\"o\", markersize=5, markeredgecolor=\"blue\", markerfacecolor=\"blue\")\n",
    "    plt.plot(coordinates[1,0], coordinates[1,1], marker=\"o\", markersize=5, markeredgecolor=\"blue\", markerfacecolor=\"blue\")\n",
    "    plt.plot(coordinates[2,0], coordinates[2,1], marker=\"o\", markersize=5, markeredgecolor=\"blue\", markerfacecolor=\"blue\")\n",
    "    plt.plot(coordinates[3,0], coordinates[3,1], marker=\"o\", markersize=5, markeredgecolor=\"blue\", markerfacecolor=\"blue\")\n",
    "    plt.xlim(-2, 2)\n",
    "    plt.ylim(-2, 2)\n",
    "    plt.title(\"Autovettore relativo all'autovalore \" + str(number) + \" pari a \" + str(Eigenvalues[number]))\n",
    "    plt.show\n",
    "    \n",
    "    return None\n",
    "    \n",
    "    "
   ]
  },
  {
   "cell_type": "code",
   "execution_count": 112,
   "id": "28ae4b83-ed14-44d4-97bc-4222b7cccfc6",
   "metadata": {},
   "outputs": [
    {
     "name": "stdout",
     "output_type": "stream",
     "text": [
      "Plottiamo l'autovettore relativo all'autovalore 2.0\n"
     ]
    },
    {
     "data": {
      "image/png": "[encoded data removed]",
      "text/plain": [
       "<Figure size 640x480 with 1 Axes>"
      ]
     },
     "metadata": {},
     "output_type": "display_data"
    }
   ],
   "source": [
    "eigenVector_plotting(7,coordinates,Eigenvalues,Eigenvectors)"
   ]
  },
  {
   "cell_type": "markdown",
   "id": "c7eaa76a-7995-449e-a8de-08d937096adf",
   "metadata": {},
   "source": [
    "A questo punto deformiamo la matrice, applicando una deformazione tale che gli estremi lungo la diagonale vengano tirati e il quadrato si deformi in un rombo.\n",
    "\n",
    "\n",
    "La matrice di deformazione agisce sulle coordinate e viene così rappresentata\n",
    "\n",
    "\\begin{pmatrix}\n",
    "1 & -\\epsilon \\\\\n",
    "-\\epsilon & 1 \\\\\n",
    "\\end{pmatrix}\n",
    "\n",
    "\n",
    "Dove epsilon è manipolabile ed è compreso tra 0 ed 1, tanto più è vicino ad 1 tanto più lo strechting è forte, ovviamente se $\\epsilon$ è 0 la matrice di deformazione è l'identità.\n",
    "\n",
    "\n",
    "Facciamo un esempio"
   ]
  },
  {
   "cell_type": "code",
   "execution_count": 51,
   "id": "d1cda032-0fcf-449d-9907-b984f8a4c655",
   "metadata": {},
   "outputs": [
    {
     "name": "stdout",
     "output_type": "stream",
     "text": [
      "[]\n",
      "[]\n"
     ]
    },
    {
     "data": {
      "image/png": "[encoded data removed]",
      "text/plain": [
       "<Figure size 600x600 with 1 Axes>"
      ]
     },
     "metadata": {},
     "output_type": "display_data"
    },
    {
     "name": "stdout",
     "output_type": "stream",
     "text": [
      "[-2.11085322e-16 -1.05472747e-16  1.87256275e-16  6.01283412e-16\n",
      "  1.05882353e+00  2.00000000e+00  2.00000000e+00  2.94117647e+00]\n"
     ]
    }
   ],
   "source": [
    "strainMatrix = np.array([[1,-0.25],[-0.25,1]])\n",
    "em = F.elasticModulus(strainMatrix)\n",
    "\n",
    "coordinates_new = np.dot(coordinates,strainMatrix)\n",
    "\n",
    "F_new = F= rp.framework(coordinates_new,bonds,basis)\n",
    "F_new.visualize()\n",
    "config_new = rp.configuration(coordinates_new,bonds,basis)\n",
    "eigenValues_new, eigenVectors_new = F_new.eigenSpace(eigvals = None)\n",
    "\n",
    "print(eigenValues_new)"
   ]
  },
  {
   "cell_type": "markdown",
   "id": "750e65cf-4aab-499e-905e-e3e18538432c",
   "metadata": {},
   "source": [
    "Come possiamo vedere vengono intaccati da questa trasformazione solo gli autovalori che non erano nulli, in particolare il quinto autovalore ed l'ottavo autovalore. Studiamo allora come si comportano tali autovalori variando la deformazione."
   ]
  },
  {
   "cell_type": "markdown",
   "id": "9878b783-06c1-4073-9d5c-29a75135e5c8",
   "metadata": {},
   "source": [
    "Questi due autovalori sono legati alla direzione delle deformazione che sto applicando, notiamo che con tale deformazione la distanza tra due punti opposti aumenta così come l'autovalore 7, mentre tra gli altri due punti opposti diminuisce così come l'autovalore 4."
   ]
  },
  {
   "cell_type": "markdown",
   "id": "a04bb82e-c000-4717-9142-42fafbaab48c",
   "metadata": {},
   "source": [
    "Adesso studiamo un sistema più complesso inserendo una molla nella diagonale che collega due punti."
   ]
  },
  {
   "cell_type": "code",
   "execution_count": 114,
   "id": "96603341-7fd2-4dd3-9652-3df5fda60e71",
   "metadata": {},
   "outputs": [
    {
     "name": "stdout",
     "output_type": "stream",
     "text": [
      "[]\n"
     ]
    },
    {
     "data": {
      "image/png": "[encoded data removed]",
      "text/plain": [
       "<Figure size 600x600 with 1 Axes>"
      ]
     },
     "metadata": {},
     "output_type": "display_data"
    },
    {
     "name": "stdout",
     "output_type": "stream",
     "text": [
      "[[ 1.   0.   0.   0.   0.   0.  -1.   0. ]\n",
      " [ 0.   1.   0.  -1.   0.   0.   0.   0. ]\n",
      " [ 0.   0.   1.5 -0.5 -1.   0.  -0.5  0.5]\n",
      " [ 0.  -1.  -0.5  1.5  0.   0.   0.5 -0.5]\n",
      " [ 0.   0.  -1.   0.   1.   0.   0.   0. ]\n",
      " [ 0.   0.   0.   0.   0.   1.   0.  -1. ]\n",
      " [-1.   0.  -0.5  0.5  0.   0.   1.5 -0.5]\n",
      " [ 0.   0.   0.5 -0.5  0.  -1.  -0.5  1.5]]\n",
      "[0.00000000e+00 1.38777878e-16 4.44089210e-16 5.85786438e-01\n",
      " 2.00000000e+00 2.00000000e+00 2.00000000e+00 3.41421356e+00]\n",
      "[[ 0.          0.51882639  0.04006328  0.51882639  0.04006328  0.47876311\n",
      "   0.          0.47876311]\n",
      " [ 0.61237244 -0.20412415  0.20412415 -0.20412415  0.20412415  0.20412415\n",
      "   0.61237244  0.20412415]\n",
      " [ 0.         -0.25328347 -0.57595856 -0.25328347 -0.57595856  0.3226751\n",
      "   0.          0.3226751 ]\n",
      " [-0.46193977 -0.46193977  0.19134172 -0.19134172  0.46193977  0.46193977\n",
      "  -0.19134172  0.19134172]\n",
      " [ 0.61237244 -0.20412415 -0.20412415  0.20412415  0.20412415  0.20412415\n",
      "  -0.61237244 -0.20412415]\n",
      " [ 0.          0.55767754 -0.40824829 -0.55767754  0.40824829  0.14942925\n",
      "   0.         -0.14942925]\n",
      " [ 0.         -0.14942925 -0.40824829  0.14942925  0.40824829 -0.55767754\n",
      "   0.          0.55767754]\n",
      " [-0.19134172 -0.19134172 -0.46193977  0.46193977  0.19134172  0.19134172\n",
      "   0.46193977 -0.46193977]]\n"
     ]
    }
   ],
   "source": [
    "coordinates = np.loadtxt(\"/Users/edoardonaggi/Desktop/TESI/Prova/coordinates.txt\")\n",
    "temp = np.loadtxt(\"/Users/edoardonaggi/Desktop/TESI/Prova/bonds2.txt\")\n",
    "bonds = temp.astype(int)\n",
    "basis = np.loadtxt(\"/Users/edoardonaggi/Desktop/TESI/Prova/basis.txt\")\n",
    "F= rp.framework(coordinates,bonds,basis)\n",
    "F.visualize()\n",
    "\n",
    "#Eigenvalues, Eigenvectors = np.linalg.eig(F.hessianMatrix())\n",
    "print(F.hessianMatrix())\n",
    "\n",
    "config = rp.configuration(coordinates,bonds,basis)\n",
    "Eigenvalues, Eigenvectors = F.eigenSpace(eigvals = None)\n",
    "print(Eigenvalues)\n",
    "print(Eigenvectors)"
   ]
  },
  {
   "cell_type": "code",
   "execution_count": 125,
   "id": "c68af72d-086b-4f93-8283-61eb0e966a5a",
   "metadata": {},
   "outputs": [
    {
     "name": "stdout",
     "output_type": "stream",
     "text": [
      "Plottiamo l'autovettore relativo all'autovalore 0.5857864376269037\n"
     ]
    },
    {
     "data": {
      "image/png": "[encoded data removed]",
      "text/plain": [
       "<Figure size 640x480 with 1 Axes>"
      ]
     },
     "metadata": {},
     "output_type": "display_data"
    }
   ],
   "source": [
    "eigenVector_plotting(3,coordinates,Eigenvalues,Eigenvectors)"
   ]
  },
  {
   "cell_type": "markdown",
   "id": "574cb96c-bfaa-4f80-be8a-fb0f1ccc3c5a",
   "metadata": {},
   "source": [
    "Rappresentiamo dunque il sistema ora più complesso e notiamo che negli autovalori, il quarto autovalore ora non è più nullo, e gli altri quattro autovalori ora non sono più identici. Ciò ci fa pensare che l'aver introdotto tale molla lungo la diagonale debba aver rotto una simmetria a cui sono collegati gli autovalori che hanno subito una variazione rispetto al modello precedente."
   ]
  },
  {
   "cell_type": "markdown",
   "id": "9b433968-38d5-4735-9cc1-bf25cf09fe88",
   "metadata": {},
   "source": [
    "Applichiamo ora la stessa deformazione"
   ]
  },
  {
   "cell_type": "code",
   "execution_count": 38,
   "id": "b9587c12-8b3d-4719-8923-95051bf21a97",
   "metadata": {},
   "outputs": [
    {
     "name": "stdout",
     "output_type": "stream",
     "text": [
      "[]\n",
      "[]\n"
     ]
    },
    {
     "data": {
      "image/png": "[encoded data removed]",
      "text/plain": [
       "<Figure size 600x600 with 1 Axes>"
      ]
     },
     "metadata": {},
     "output_type": "display_data"
    },
    {
     "name": "stdout",
     "output_type": "stream",
     "text": [
      "[-5.02087259e-16  7.52005363e-17  2.78586973e-16  2.85014149e-01\n",
      "  1.05882353e+00  2.00000000e+00  2.94117647e+00  3.71498585e+00]\n"
     ]
    }
   ],
   "source": [
    "strainMatrix = np.array([[1,-0.25],[-0.25,1]])\n",
    "em = F.elasticModulus(strainMatrix)\n",
    "\n",
    "coordinates_new = np.dot(coordinates,strainMatrix)\n",
    "\n",
    "F_new = F= rp.framework(coordinates_new,bonds,basis)\n",
    "F_new.visualize()\n",
    "config_new = rp.configuration(coordinates_new,bonds,basis)\n",
    "eigenValues_new, eigenVectors_new = F_new.eigenSpace(eigvals = None)\n",
    "\n",
    "print(eigenValues_new)"
   ]
  },
  {
   "cell_type": "markdown",
   "id": "55c37865-b25d-466f-99ff-41bc1c973567",
   "metadata": {},
   "source": [
    "Subiscono una variazione sul valore tutti gli autovalori tranne i primi tre che rimangono nulli ed il sesto che rimane pari a 2. Dunque ora possiamo studiare come si comportano tali autovalori in base alla deformazione."
   ]
  },
  {
   "cell_type": "markdown",
   "id": "f5336dab-a67c-45df-b59e-4fe65be8b9a4",
   "metadata": {},
   "source": [
    "Come notiamo l'autovalore 4 e 7 si comportano esattamente come visto in precedenza, ma ora si sono aggiuntigli autovalori 6 e 3. "
   ]
  },
  {
   "cell_type": "markdown",
   "id": "b0d843f2-9219-40b4-b998-2982cb29e927",
   "metadata": {},
   "source": [
    "Ora proviamo a pinnare ossia fissare un elemento del reticolo ed applicare la deformazione."
   ]
  },
  {
   "cell_type": "code",
   "execution_count": 40,
   "id": "26b636ec-583a-49a9-ae0f-46f0ceb3c0ab",
   "metadata": {},
   "outputs": [
    {
     "name": "stdout",
     "output_type": "stream",
     "text": [
      "[]\n"
     ]
    },
    {
     "data": {
      "image/png": "[encoded data removed]",
      "text/plain": [
       "<Figure size 600x600 with 1 Axes>"
      ]
     },
     "metadata": {},
     "output_type": "display_data"
    },
    {
     "name": "stdout",
     "output_type": "stream",
     "text": [
      "[1.11022302e-15 1.11022302e-15 1.00000000e+00 1.00000000e+00\n",
      " 2.00000000e+00 2.00000000e+00]\n",
      "[[0.1 0.1]\n",
      " [0.1 1.1]\n",
      " [1.1 1.1]\n",
      " [1.1 0.1]]\n"
     ]
    }
   ],
   "source": [
    "coordinates = np.loadtxt(\"/Users/edoardonaggi/Desktop/TESI/Prova/coordinates.txt\")\n",
    "temp = np.loadtxt(\"/Users/edoardonaggi/Desktop/TESI/Prova/bonds.txt\")\n",
    "bonds = temp.astype(int)\n",
    "basis = np.loadtxt(\"/Users/edoardonaggi/Desktop/TESI/Prova/basis.txt\")\n",
    "pins=[0] #In questo comando sto fissando il punto zero appartenente al reticolo che verrà evidenziato in rosso\n",
    "F= rp.framework(coordinates,bonds,basis,pins)\n",
    "F.visualize()\n",
    "config = rp.configuration(coordinates,bonds,basis)\n",
    "eigenValues, eigenVectors = F.eigenSpace(eigvals = None)\n",
    "\n",
    "print(eigenValues)\n",
    "print(coordinates)"
   ]
  },
  {
   "cell_type": "markdown",
   "id": "499225b7-b980-426f-a570-3b35c63d6a04",
   "metadata": {},
   "source": [
    "Pinnando un punto notiamo che gli autovalori sono ora 6, questo perchè un punto ha perso i due gradi di libertà. Altro punto degno di nota è che anche cambiando il punto pinnato gli autovalori del sistema non deformato non cambiano."
   ]
  },
  {
   "cell_type": "markdown",
   "id": "60c3299d-b3ac-460e-85b5-2703513be8b6",
   "metadata": {},
   "source": [
    "Gli autovalori che erano nulli rimangono tali mentre variano gli altri quattro. In questo caso cambiando il nodo pinnato cambiano anche gli autovalori non nulli."
   ]
  },
  {
   "cell_type": "code",
   "execution_count": 42,
   "id": "4215aacd-261a-499e-9ee2-ceea27bf2f1b",
   "metadata": {},
   "outputs": [
    {
     "name": "stdout",
     "output_type": "stream",
     "text": [
      "[]\n"
     ]
    },
    {
     "data": {
      "image/png": "[encoded data removed]",
      "text/plain": [
       "<Figure size 600x600 with 1 Axes>"
      ]
     },
     "metadata": {},
     "output_type": "display_data"
    },
    {
     "name": "stdout",
     "output_type": "stream",
     "text": [
      "[2.40548321e-16 1.98062264e-01 1.00000000e+00 1.55495813e+00\n",
      " 2.00000000e+00 3.24697960e+00]\n"
     ]
    }
   ],
   "source": [
    "coordinates = np.loadtxt(\"/Users/edoardonaggi/Desktop/TESI/Prova/coordinates.txt\")\n",
    "temp = np.loadtxt(\"/Users/edoardonaggi/Desktop/TESI/Prova/bonds2.txt\")\n",
    "bonds = temp.astype(int)\n",
    "basis = np.loadtxt(\"/Users/edoardonaggi/Desktop/TESI/Prova/basis.txt\")\n",
    "pins=[0]\n",
    "F= rp.framework(coordinates,bonds,basis,pins)\n",
    "F.visualize()\n",
    "config = rp.configuration(coordinates,bonds,basis)\n",
    "eigenValues, eigenVectors = F.eigenSpace(eigvals = None)\n",
    "\n",
    "print(eigenValues)"
   ]
  },
  {
   "cell_type": "markdown",
   "id": "52df3ddb-7cbd-4fde-9a31-8ceb7e14da82",
   "metadata": {},
   "source": [
    "In questo caso cambiando il punto pinnato notiamo che gli autovalori di punti pinnati opposti tra loro sono uguali, ciò è probabilmente dovuto alla simmetria introdotta dalla molla diagonale."
   ]
  },
  {
   "cell_type": "markdown",
   "id": "fbe7a9b7-7096-4fcf-91b7-4e2872d8b553",
   "metadata": {},
   "source": [
    "STUDIO SU UN SISTEMA UNIDIMENSIONALE PER CAPIRE MEGLIO AUTOVETTORI E AUTOVALORI DELL'HESSIANA"
   ]
  },
  {
   "cell_type": "code",
   "execution_count": 4,
   "id": "0df83ea1-82ec-4540-b9f7-1eae23ad3ca1",
   "metadata": {},
   "outputs": [
    {
     "name": "stdout",
     "output_type": "stream",
     "text": [
      "[]\n"
     ]
    },
    {
     "data": {
      "image/png": "[encoded data removed]",
      "text/plain": [
       "<Figure size 600x600 with 1 Axes>"
      ]
     },
     "metadata": {},
     "output_type": "display_data"
    }
   ],
   "source": [
    "coordinates = np.loadtxt(\"/Users/edoardonaggi/Desktop/TESI/Prova/coordinates3.txt\")\n",
    "temp = np.loadtxt(\"/Users/edoardonaggi/Desktop/TESI/Prova/bonds3.txt\")\n",
    "bonds = temp.astype(int)\n",
    "basis = np.loadtxt(\"/Users/edoardonaggi/Desktop/TESI/Prova/basis.txt\")\n",
    "#pins = [0]\n",
    "F= rp.framework(coordinates,bonds,basis)\n",
    "F.visualize()\n"
   ]
  },
  {
   "cell_type": "markdown",
   "id": "59548a6f-1a6f-4707-9297-db9da32d5993",
   "metadata": {},
   "source": [
    "Eigenvector 1: Eigenvalue=3\\\n",
    "-0.408248 \\\n",
    "0\\\n",
    "0.816497\\\n",
    "0\\\n",
    "-0.408248\\\n",
    "0\n",
    "\n",
    "Eigenvector 2: Eigenvalue=1\\\n",
    "-0.707107 \\\n",
    "0\\\n",
    "0\\\n",
    "0\\\n",
    "0.707107\\\n",
    "0\n",
    "\n",
    "Eigenvector 3: Eigenvalue=0\\\n",
    "0\\\n",
    "0\\\n",
    "0\\\n",
    "1\\\n",
    "0\\\n",
    "0\n",
    "\n",
    "Eigenvector 4: Eigenvalue=0\\\n",
    "0\\\n",
    "1\\\n",
    "0\\\n",
    "0\\\n",
    "0\\\n",
    "0\n",
    "\n",
    "Eigenvector 5: Eigenvalue=0\\\n",
    "0\\\n",
    "0\\\n",
    "0\\\n",
    "0\\\n",
    "0\\\n",
    "1\n",
    "\n",
    "Eigenvector 6: Eigenvalue=0\\\n",
    "0.57735\\\n",
    "0\\\n",
    "0.57735\\\n",
    "0\\\n",
    "0.57735\\\n",
    "0\n",
    "\n"
   ]
  },
  {
   "cell_type": "code",
   "execution_count": null,
   "id": "ce08b397-e4ab-46c0-847c-23bc158c5bf2",
   "metadata": {},
   "outputs": [],
   "source": []
  }
 ],
 "metadata": {
  "kernelspec": {
   "display_name": "Python 3 (ipykernel)",
   "language": "python",
   "name": "python3"
  },
  "language_info": {
   "codemirror_mode": {
    "name": "ipython",
    "version": 3
   },
   "file_extension": ".py",
   "mimetype": "text/x-python",
   "name": "python",
   "nbconvert_exporter": "python",
   "pygments_lexer": "ipython3",
   "version": "3.9.7"
  }
 },
 "nbformat": 4,
 "nbformat_minor": 5
}
