{
 "cells": [
  {
   "cell_type": "markdown",
   "id": "969f0f14-7b57-41dc-b0a0-e481ffeb9a0d",
   "metadata": {},
   "source": [
    "Creo un reticolo che voglio studiare con condizioni periodiche al contorno e senza. Il reticolo sarà formato celle quadrate, utilizzando RigidPy non è possibile utilizzare una sola cella quadrata perchè l'idea è quella di collegare gli estremi di un reticolo creando un toro, un tale collegamento è possibile se lungo un asse i nodi sono almeno tre."
   ]
  },
  {
   "cell_type": "code",
   "execution_count": 31,
   "id": "a78bb087-4957-4d70-b4fe-570b9d67f044",
   "metadata": {},
   "outputs": [],
   "source": [
    "import numpy as np\n",
    "import matplotlib.pyplot as plt\n",
    "import pandas as pd\n",
    "import scipy\n",
    "import rigidpy as rp"
   ]
  },
  {
   "cell_type": "code",
   "execution_count": 32,
   "id": "5ddf92ca-fb0e-40a9-8dbc-d3c4160cf1e9",
   "metadata": {},
   "outputs": [
    {
     "name": "stdout",
     "output_type": "stream",
     "text": [
      "Coordinate di ogni nodo: \n",
      "[[0.1 0.1]\n",
      " [1.1 0.1]\n",
      " [2.1 0.1]\n",
      " [0.1 1.1]\n",
      " [1.1 1.1]\n",
      " [2.1 1.1]\n",
      " [0.1 2.1]\n",
      " [1.1 2.1]\n",
      " [2.1 2.1]]\n",
      "Collegamenti tra i nodi numerati secondo sequenza: \n",
      "[[0 1]\n",
      " [1 2]\n",
      " [0 3]\n",
      " [1 4]\n",
      " [2 5]\n",
      " [3 4]\n",
      " [4 5]\n",
      " [3 6]\n",
      " [4 7]\n",
      " [8 5]\n",
      " [6 7]\n",
      " [7 8]]\n"
     ]
    }
   ],
   "source": [
    "coordinates = np.loadtxt(\"/Users/edoardonaggi/Desktop/TESI/Prova/coordinates7.txt\")\n",
    "temp = np.loadtxt(\"/Users/edoardonaggi/Desktop/TESI/Prova/bonds7.txt\")\n",
    "bonds = temp.astype(int)\n",
    "print(\"Coordinate di ogni nodo: \")\n",
    "print(coordinates)\n",
    "print(\"Collegamenti tra i nodi numerati secondo sequenza: \")\n",
    "print(bonds)"
   ]
  },
  {
   "cell_type": "markdown",
   "id": "f9a1c1de-85d7-4dc5-a0da-60736703394b",
   "metadata": {},
   "source": [
    "Una volta caricate le coordinate non periodiche, creo il framework tenendo present che va inserita una base ossia due vettori (dato che siamo in due dimensioni) che contengano l'elemento da ripetersi, ossia quello disegnato."
   ]
  },
  {
   "cell_type": "code",
   "execution_count": 33,
   "id": "caf736f2-68c6-4f7e-af65-f00b61079eca",
   "metadata": {},
   "outputs": [
    {
     "name": "stdout",
     "output_type": "stream",
     "text": [
      "[]\n"
     ]
    },
    {
     "data": {
      "image/png": "[encoded data removed]",
      "text/plain": [
       "<Figure size 600x600 with 1 Axes>"
      ]
     },
     "metadata": {},
     "output_type": "display_data"
    }
   ],
   "source": [
    "F= rp.framework(coordinates,bonds,basis=[[0,3],[3,0]])\n",
    "F.visualize()"
   ]
  },
  {
   "cell_type": "markdown",
   "id": "00436cc7-e9e9-481a-82ab-e1a4d1884a44",
   "metadata": {},
   "source": [
    "A questo punto printo la matrice hessiana da studiare con o senza condizioni periodiche"
   ]
  },
  {
   "cell_type": "code",
   "execution_count": 34,
   "id": "9b304484-ef44-41ad-bd64-4585d66e14b1",
   "metadata": {},
   "outputs": [
    {
     "name": "stdout",
     "output_type": "stream",
     "text": [
      "[[ 1.  0. -1.  0.  0.  0.  0.  0.  0.  0.  0.  0.  0.  0.  0.  0.  0.  0.]\n",
      " [ 0.  1.  0.  0.  0.  0.  0. -1.  0.  0.  0.  0.  0.  0.  0.  0.  0.  0.]\n",
      " [-1.  0.  2.  0. -1.  0.  0.  0.  0.  0.  0.  0.  0.  0.  0.  0.  0.  0.]\n",
      " [ 0.  0.  0.  1.  0.  0.  0.  0.  0. -1.  0.  0.  0.  0.  0.  0.  0.  0.]\n",
      " [ 0.  0. -1.  0.  1.  0.  0.  0.  0.  0.  0.  0.  0.  0.  0.  0.  0.  0.]\n",
      " [ 0.  0.  0.  0.  0.  1.  0.  0.  0.  0.  0. -1.  0.  0.  0.  0.  0.  0.]\n",
      " [ 0.  0.  0.  0.  0.  0.  1.  0. -1.  0.  0.  0.  0.  0.  0.  0.  0.  0.]\n",
      " [ 0. -1.  0.  0.  0.  0.  0.  2.  0.  0.  0.  0.  0. -1.  0.  0.  0.  0.]\n",
      " [ 0.  0.  0.  0.  0.  0. -1.  0.  2.  0. -1.  0.  0.  0.  0.  0.  0.  0.]\n",
      " [ 0.  0.  0. -1.  0.  0.  0.  0.  0.  2.  0.  0.  0.  0.  0. -1.  0.  0.]\n",
      " [ 0.  0.  0.  0.  0.  0.  0.  0. -1.  0.  1.  0.  0.  0.  0.  0.  0.  0.]\n",
      " [ 0.  0.  0.  0.  0. -1.  0.  0.  0.  0.  0.  2.  0.  0.  0.  0.  0. -1.]\n",
      " [ 0.  0.  0.  0.  0.  0.  0.  0.  0.  0.  0.  0.  1.  0. -1.  0.  0.  0.]\n",
      " [ 0.  0.  0.  0.  0.  0.  0. -1.  0.  0.  0.  0.  0.  1.  0.  0.  0.  0.]\n",
      " [ 0.  0.  0.  0.  0.  0.  0.  0.  0.  0.  0.  0. -1.  0.  2.  0. -1.  0.]\n",
      " [ 0.  0.  0.  0.  0.  0.  0.  0.  0. -1.  0.  0.  0.  0.  0.  1.  0.  0.]\n",
      " [ 0.  0.  0.  0.  0.  0.  0.  0.  0.  0.  0.  0.  0.  0. -1.  0.  1.  0.]\n",
      " [ 0.  0.  0.  0.  0.  0.  0.  0.  0.  0.  0. -1.  0.  0.  0.  0.  0.  1.]]\n"
     ]
    }
   ],
   "source": [
    "print(F.hessianMatrix())"
   ]
  },
  {
   "cell_type": "markdown",
   "id": "af3744b8-5c12-4fbd-bfac-f4f868a3397e",
   "metadata": {},
   "source": [
    "E di questa calcolo autovettori e autovalori"
   ]
  },
  {
   "cell_type": "code",
   "execution_count": 35,
   "id": "1ed829dc-f537-4e4f-a54a-1b38ee35092d",
   "metadata": {},
   "outputs": [
    {
     "name": "stdout",
     "output_type": "stream",
     "text": [
      "Autovalori della matrice: \n",
      "[2.66453526e-15 2.66453526e-15 2.66453526e-15 2.66453526e-15\n",
      " 2.66453526e-15 2.66453526e-15 1.00000000e+00 1.00000000e+00\n",
      " 1.00000000e+00 1.00000000e+00 1.00000000e+00 1.00000000e+00\n",
      " 3.00000000e+00 3.00000000e+00 3.00000000e+00 3.00000000e+00\n",
      " 3.00000000e+00 3.00000000e+00]\n",
      "Autovettori della matrice: \n",
      "[[ 5.77350269e-01  0.00000000e+00  5.77350269e-01  0.00000000e+00\n",
      "   5.77350269e-01  0.00000000e+00  0.00000000e+00  0.00000000e+00\n",
      "   0.00000000e+00  0.00000000e+00  0.00000000e+00  0.00000000e+00\n",
      "   0.00000000e+00  0.00000000e+00  0.00000000e+00  0.00000000e+00\n",
      "   0.00000000e+00  0.00000000e+00]\n",
      " [ 0.00000000e+00  0.00000000e+00  0.00000000e+00  5.77350269e-01\n",
      "   0.00000000e+00  0.00000000e+00  0.00000000e+00  0.00000000e+00\n",
      "   0.00000000e+00  5.77350269e-01  0.00000000e+00  0.00000000e+00\n",
      "   0.00000000e+00  0.00000000e+00  0.00000000e+00  5.77350269e-01\n",
      "   0.00000000e+00  0.00000000e+00]\n",
      " [ 0.00000000e+00  0.00000000e+00  0.00000000e+00  0.00000000e+00\n",
      "   0.00000000e+00  0.00000000e+00  5.77350269e-01  0.00000000e+00\n",
      "   5.77350269e-01  0.00000000e+00  5.77350269e-01  0.00000000e+00\n",
      "   0.00000000e+00  0.00000000e+00  0.00000000e+00  0.00000000e+00\n",
      "   0.00000000e+00  0.00000000e+00]\n",
      " [ 0.00000000e+00  5.77350269e-01  0.00000000e+00  0.00000000e+00\n",
      "   0.00000000e+00  0.00000000e+00  0.00000000e+00  5.77350269e-01\n",
      "   0.00000000e+00  0.00000000e+00  0.00000000e+00  0.00000000e+00\n",
      "   0.00000000e+00  5.77350269e-01  0.00000000e+00  0.00000000e+00\n",
      "   0.00000000e+00  0.00000000e+00]\n",
      " [ 0.00000000e+00  0.00000000e+00  0.00000000e+00  0.00000000e+00\n",
      "   0.00000000e+00  0.00000000e+00  0.00000000e+00  0.00000000e+00\n",
      "   0.00000000e+00  0.00000000e+00  0.00000000e+00  0.00000000e+00\n",
      "   5.77350269e-01  0.00000000e+00  5.77350269e-01  0.00000000e+00\n",
      "   5.77350269e-01  0.00000000e+00]\n",
      " [ 0.00000000e+00  0.00000000e+00  0.00000000e+00  0.00000000e+00\n",
      "   0.00000000e+00  5.77350269e-01  0.00000000e+00  0.00000000e+00\n",
      "   0.00000000e+00  0.00000000e+00  0.00000000e+00  5.77350269e-01\n",
      "   0.00000000e+00  0.00000000e+00  0.00000000e+00  0.00000000e+00\n",
      "   0.00000000e+00  5.77350269e-01]\n",
      " [ 0.00000000e+00  0.00000000e+00  0.00000000e+00  0.00000000e+00\n",
      "   0.00000000e+00  0.00000000e+00 -7.07106781e-01  0.00000000e+00\n",
      "   9.42055475e-16  0.00000000e+00  7.07106781e-01  0.00000000e+00\n",
      "   0.00000000e+00  0.00000000e+00  0.00000000e+00  0.00000000e+00\n",
      "   0.00000000e+00  0.00000000e+00]\n",
      " [-7.07106781e-01  0.00000000e+00  9.42055475e-16  0.00000000e+00\n",
      "   7.07106781e-01  0.00000000e+00  0.00000000e+00  0.00000000e+00\n",
      "   0.00000000e+00  0.00000000e+00  0.00000000e+00  0.00000000e+00\n",
      "   0.00000000e+00  0.00000000e+00  0.00000000e+00  0.00000000e+00\n",
      "   0.00000000e+00  0.00000000e+00]\n",
      " [ 0.00000000e+00 -7.07106781e-01  0.00000000e+00  0.00000000e+00\n",
      "   0.00000000e+00  0.00000000e+00  0.00000000e+00  9.42055475e-16\n",
      "   0.00000000e+00  0.00000000e+00  0.00000000e+00  0.00000000e+00\n",
      "   0.00000000e+00  7.07106781e-01  0.00000000e+00  0.00000000e+00\n",
      "   0.00000000e+00  0.00000000e+00]\n",
      " [ 0.00000000e+00  0.00000000e+00  0.00000000e+00 -7.07106781e-01\n",
      "   0.00000000e+00  0.00000000e+00  0.00000000e+00  0.00000000e+00\n",
      "   0.00000000e+00  9.42055475e-16  0.00000000e+00  0.00000000e+00\n",
      "   0.00000000e+00  0.00000000e+00  0.00000000e+00  7.07106781e-01\n",
      "   0.00000000e+00  0.00000000e+00]\n",
      " [ 0.00000000e+00  0.00000000e+00  0.00000000e+00  0.00000000e+00\n",
      "   0.00000000e+00  0.00000000e+00  0.00000000e+00  0.00000000e+00\n",
      "   0.00000000e+00  0.00000000e+00  0.00000000e+00  0.00000000e+00\n",
      "  -7.07106781e-01  0.00000000e+00  9.42055475e-16  0.00000000e+00\n",
      "   7.07106781e-01  0.00000000e+00]\n",
      " [ 0.00000000e+00  0.00000000e+00  0.00000000e+00  0.00000000e+00\n",
      "   0.00000000e+00 -7.07106781e-01  0.00000000e+00  0.00000000e+00\n",
      "   0.00000000e+00  0.00000000e+00  0.00000000e+00  9.42055475e-16\n",
      "   0.00000000e+00  0.00000000e+00  0.00000000e+00  0.00000000e+00\n",
      "   0.00000000e+00  7.07106781e-01]\n",
      " [-4.08248290e-01  0.00000000e+00  8.16496581e-01  0.00000000e+00\n",
      "  -4.08248290e-01  0.00000000e+00  0.00000000e+00  0.00000000e+00\n",
      "   0.00000000e+00  0.00000000e+00  0.00000000e+00  0.00000000e+00\n",
      "   0.00000000e+00  0.00000000e+00  0.00000000e+00  0.00000000e+00\n",
      "   0.00000000e+00  0.00000000e+00]\n",
      " [ 0.00000000e+00  0.00000000e+00  0.00000000e+00  0.00000000e+00\n",
      "   0.00000000e+00  0.00000000e+00 -4.08248290e-01  0.00000000e+00\n",
      "   8.16496581e-01  0.00000000e+00 -4.08248290e-01  0.00000000e+00\n",
      "   0.00000000e+00  0.00000000e+00  0.00000000e+00  0.00000000e+00\n",
      "   0.00000000e+00  0.00000000e+00]\n",
      " [ 0.00000000e+00  0.00000000e+00  0.00000000e+00  0.00000000e+00\n",
      "   0.00000000e+00  0.00000000e+00  0.00000000e+00  0.00000000e+00\n",
      "   0.00000000e+00  0.00000000e+00  0.00000000e+00  0.00000000e+00\n",
      "  -4.08248290e-01  0.00000000e+00  8.16496581e-01  0.00000000e+00\n",
      "  -4.08248290e-01  0.00000000e+00]\n",
      " [ 0.00000000e+00  0.00000000e+00  0.00000000e+00 -4.08248290e-01\n",
      "   0.00000000e+00  0.00000000e+00  0.00000000e+00  0.00000000e+00\n",
      "   0.00000000e+00  8.16496581e-01  0.00000000e+00  0.00000000e+00\n",
      "   0.00000000e+00  0.00000000e+00  0.00000000e+00 -4.08248290e-01\n",
      "   0.00000000e+00  0.00000000e+00]\n",
      " [ 0.00000000e+00 -4.08248290e-01  0.00000000e+00  0.00000000e+00\n",
      "   0.00000000e+00  0.00000000e+00  0.00000000e+00  8.16496581e-01\n",
      "   0.00000000e+00  0.00000000e+00  0.00000000e+00  0.00000000e+00\n",
      "   0.00000000e+00 -4.08248290e-01  0.00000000e+00  0.00000000e+00\n",
      "   0.00000000e+00  0.00000000e+00]\n",
      " [ 0.00000000e+00  0.00000000e+00  0.00000000e+00  0.00000000e+00\n",
      "   0.00000000e+00 -4.08248290e-01  0.00000000e+00  0.00000000e+00\n",
      "   0.00000000e+00  0.00000000e+00  0.00000000e+00  8.16496581e-01\n",
      "   0.00000000e+00  0.00000000e+00  0.00000000e+00  0.00000000e+00\n",
      "   0.00000000e+00 -4.08248290e-01]]\n"
     ]
    }
   ],
   "source": [
    "Eigenvalues, Eigenvectors = F.eigenSpace(eigvals = None)\n",
    "print(\"Autovalori della matrice: \")\n",
    "print(Eigenvalues)\n",
    "print(\"Autovettori della matrice: \")\n",
    "print(Eigenvectors)"
   ]
  },
  {
   "cell_type": "markdown",
   "id": "23fcaa29-d98d-4a0c-8b84-693660fb2d79",
   "metadata": {},
   "source": [
    "Ora applico le condizioni periodiche al contorno ossia collego gli estremi della cella in modo da formare un toro"
   ]
  },
  {
   "cell_type": "code",
   "execution_count": 36,
   "id": "638ee3d6-410c-40f9-897a-88d4abc391f1",
   "metadata": {},
   "outputs": [
    {
     "name": "stdout",
     "output_type": "stream",
     "text": [
      "Coordinate di ogni nodo: \n",
      "[[0.1 0.1]\n",
      " [1.1 0.1]\n",
      " [2.1 0.1]\n",
      " [0.1 1.1]\n",
      " [1.1 1.1]\n",
      " [2.1 1.1]\n",
      " [0.1 2.1]\n",
      " [1.1 2.1]\n",
      " [2.1 2.1]]\n",
      "Collegamenti tra i nodi numerati secondo sequenza: \n",
      "[[0 1]\n",
      " [1 2]\n",
      " [0 3]\n",
      " [1 4]\n",
      " [2 5]\n",
      " [3 4]\n",
      " [4 5]\n",
      " [3 6]\n",
      " [4 7]\n",
      " [5 8]\n",
      " [6 7]\n",
      " [7 8]\n",
      " [0 2]\n",
      " [0 6]\n",
      " [1 7]\n",
      " [2 8]\n",
      " [3 5]\n",
      " [6 8]]\n"
     ]
    }
   ],
   "source": [
    "coordinates = np.loadtxt(\"/Users/edoardonaggi/Desktop/TESI/Prova/coordinates7.txt\")\n",
    "temp = np.loadtxt(\"/Users/edoardonaggi/Desktop/TESI/Prova/bonds7_pbc.txt\")\n",
    "bonds = temp.astype(int)\n",
    "print(\"Coordinate di ogni nodo: \")\n",
    "print(coordinates)\n",
    "print(\"Collegamenti tra i nodi numerati secondo sequenza: \")\n",
    "print(bonds)"
   ]
  },
  {
   "cell_type": "markdown",
   "id": "8446a4b6-2cf3-472c-b0df-825559a3817f",
   "metadata": {},
   "source": [
    "Ho aggiunto gli ultimi 6 bonds che rappresentano le PBC."
   ]
  },
  {
   "cell_type": "markdown",
   "id": "2a0d8a94-e3be-42aa-830e-1ab2eb35d1b1",
   "metadata": {},
   "source": [
    "Rappresento la matrice hessiana"
   ]
  },
  {
   "cell_type": "code",
   "execution_count": 37,
   "id": "6f9e0840-f2a9-4995-992d-5dbc86b0a42e",
   "metadata": {},
   "outputs": [
    {
     "name": "stdout",
     "output_type": "stream",
     "text": [
      "[[-3  0]\n",
      " [ 0 -3]\n",
      " [ 0 -3]\n",
      " [ 0 -3]\n",
      " [-3  0]\n",
      " [-3  0]]\n",
      "[[ 2.  0. -1.  0. -1.  0.  0.  0.  0.  0.  0.  0.  0.  0.  0.  0.  0.  0.]\n",
      " [ 0.  2.  0.  0.  0.  0.  0. -1.  0.  0.  0.  0.  0. -1.  0.  0.  0.  0.]\n",
      " [-1.  0.  2.  0. -1.  0.  0.  0.  0.  0.  0.  0.  0.  0.  0.  0.  0.  0.]\n",
      " [ 0.  0.  0.  2.  0.  0.  0.  0.  0. -1.  0.  0.  0.  0.  0. -1.  0.  0.]\n",
      " [-1.  0. -1.  0.  2.  0.  0.  0.  0.  0.  0.  0.  0.  0.  0.  0.  0.  0.]\n",
      " [ 0.  0.  0.  0.  0.  2.  0.  0.  0.  0.  0. -1.  0.  0.  0.  0.  0. -1.]\n",
      " [ 0.  0.  0.  0.  0.  0.  2.  0. -1.  0. -1.  0.  0.  0.  0.  0.  0.  0.]\n",
      " [ 0. -1.  0.  0.  0.  0.  0.  2.  0.  0.  0.  0.  0. -1.  0.  0.  0.  0.]\n",
      " [ 0.  0.  0.  0.  0.  0. -1.  0.  2.  0. -1.  0.  0.  0.  0.  0.  0.  0.]\n",
      " [ 0.  0.  0. -1.  0.  0.  0.  0.  0.  2.  0.  0.  0.  0.  0. -1.  0.  0.]\n",
      " [ 0.  0.  0.  0.  0.  0. -1.  0. -1.  0.  2.  0.  0.  0.  0.  0.  0.  0.]\n",
      " [ 0.  0.  0.  0.  0. -1.  0.  0.  0.  0.  0.  2.  0.  0.  0.  0.  0. -1.]\n",
      " [ 0.  0.  0.  0.  0.  0.  0.  0.  0.  0.  0.  0.  2.  0. -1.  0. -1.  0.]\n",
      " [ 0. -1.  0.  0.  0.  0.  0. -1.  0.  0.  0.  0.  0.  2.  0.  0.  0.  0.]\n",
      " [ 0.  0.  0.  0.  0.  0.  0.  0.  0.  0.  0.  0. -1.  0.  2.  0. -1.  0.]\n",
      " [ 0.  0.  0. -1.  0.  0.  0.  0.  0. -1.  0.  0.  0.  0.  0.  2.  0.  0.]\n",
      " [ 0.  0.  0.  0.  0.  0.  0.  0.  0.  0.  0.  0. -1.  0. -1.  0.  2.  0.]\n",
      " [ 0.  0.  0.  0.  0. -1.  0.  0.  0.  0.  0. -1.  0.  0.  0.  0.  0.  2.]]\n"
     ]
    }
   ],
   "source": [
    "F_PBC= rp.framework(coordinates,bonds,basis=[[0,3],[3,0]])\n",
    "print(F_PBC.hessianMatrix())"
   ]
  },
  {
   "cell_type": "code",
   "execution_count": 38,
   "id": "6150f0e7-4b4e-4746-9e38-e5aeb89add54",
   "metadata": {},
   "outputs": [
    {
     "name": "stdout",
     "output_type": "stream",
     "text": [
      "Autovalori della matrice: \n",
      "[-2.66453526e-15 -1.33226763e-15  1.77635684e-15  1.77635684e-15\n",
      "  2.22044605e-15  2.22044605e-15  3.00000000e+00  3.00000000e+00\n",
      "  3.00000000e+00  3.00000000e+00  3.00000000e+00  3.00000000e+00\n",
      "  3.00000000e+00  3.00000000e+00  3.00000000e+00  3.00000000e+00\n",
      "  3.00000000e+00  3.00000000e+00]\n",
      "Autovettori della matrice: \n",
      "[[ 0.00000000e+00  1.07423132e-17 -7.59596249e-18 -1.33638093e-17\n",
      "   7.59596249e-18 -5.39471368e-17 -5.77350269e-01 -6.08823078e-17\n",
      "  -5.77350269e-01 -6.27070344e-17 -5.77350269e-01  5.55111512e-17\n",
      "   0.00000000e+00  5.01399946e-17  0.00000000e+00  7.60708437e-17\n",
      "   0.00000000e+00 -5.55111512e-17]\n",
      " [ 0.00000000e+00  1.70013763e-18 -1.20217885e-18 -2.11503004e-18\n",
      "   1.20217885e-18 -1.14983084e-18  1.68933692e-18  7.75211453e-18\n",
      "  -1.44291239e-18 -9.58428336e-19 -2.46424529e-19 -2.21380093e-18\n",
      "  -5.77350269e-01 -9.45225216e-18 -5.77350269e-01  3.07345837e-18\n",
      "  -5.77350269e-01  3.36363176e-18]\n",
      " [ 0.00000000e+00 -7.85046229e-17  5.55111512e-17 -5.77350269e-01\n",
      "  -5.55111512e-17  0.00000000e+00  0.00000000e+00  0.00000000e+00\n",
      "   0.00000000e+00 -5.77350269e-01  0.00000000e+00  0.00000000e+00\n",
      "   0.00000000e+00  0.00000000e+00  0.00000000e+00 -5.77350269e-01\n",
      "   0.00000000e+00  0.00000000e+00]\n",
      " [ 0.00000000e+00 -9.75517944e-18  6.89795353e-18  1.21357807e-17\n",
      "  -6.89795353e-18 -5.77350269e-01  0.00000000e+00 -3.67557737e-17\n",
      "   0.00000000e+00  1.11022302e-16  0.00000000e+00 -5.77350269e-01\n",
      "   0.00000000e+00  4.65109531e-17  0.00000000e+00  5.55111512e-17\n",
      "   0.00000000e+00 -5.77350269e-01]\n",
      " [ 0.00000000e+00  5.77350269e-01  1.11022302e-16  0.00000000e+00\n",
      "   5.55111512e-17  0.00000000e+00  0.00000000e+00  5.77350269e-01\n",
      "   0.00000000e+00  0.00000000e+00  0.00000000e+00  0.00000000e+00\n",
      "   0.00000000e+00  5.77350269e-01  0.00000000e+00  0.00000000e+00\n",
      "   0.00000000e+00  0.00000000e+00]\n",
      " [ 5.77350269e-01  0.00000000e+00  5.77350269e-01  0.00000000e+00\n",
      "   5.77350269e-01  0.00000000e+00  0.00000000e+00  0.00000000e+00\n",
      "   0.00000000e+00  0.00000000e+00  0.00000000e+00  0.00000000e+00\n",
      "   0.00000000e+00  0.00000000e+00  0.00000000e+00  0.00000000e+00\n",
      "   0.00000000e+00  0.00000000e+00]\n",
      " [ 0.00000000e+00 -4.38853949e-01  3.10316603e-01 -5.87944458e-01\n",
      "  -3.10316603e-01  0.00000000e+00  0.00000000e+00  2.19426974e-01\n",
      "   0.00000000e+00  2.93972229e-01  0.00000000e+00  0.00000000e+00\n",
      "   0.00000000e+00  2.19426974e-01  0.00000000e+00  2.93972229e-01\n",
      "   0.00000000e+00  0.00000000e+00]\n",
      " [ 0.00000000e+00 -2.56130668e-01  1.81111732e-01  3.18635412e-01\n",
      "  -1.81111732e-01  3.32774047e-01  2.84743349e-01  1.56237913e-01\n",
      "  -4.96731412e-01 -4.26865838e-01  2.11988063e-01 -1.60028546e-01\n",
      "   0.00000000e+00  9.98927548e-02  0.00000000e+00  1.08230426e-01\n",
      "   0.00000000e+00 -1.72745501e-01]\n",
      " [ 0.00000000e+00  4.74678440e-02 -3.35648344e-02 -5.90516403e-02\n",
      "   3.35648344e-02 -7.31375009e-02 -6.35579681e-01 -1.24109591e-01\n",
      "  -2.49128448e-02 -2.11138203e-01  6.60492526e-01  8.28897628e-02\n",
      "   0.00000000e+00  7.66417468e-02  0.00000000e+00  2.70189843e-01\n",
      "   0.00000000e+00 -9.75226196e-03]\n",
      " [ 0.00000000e+00  8.88804399e-02 -6.28479618e-02 -1.10570342e-01\n",
      "   6.28479618e-02 -5.14538490e-02  2.34906997e-02  4.77117294e-01\n",
      "  -3.36248619e-02 -9.11798283e-02  1.01341622e-02  1.94315450e-01\n",
      "   4.56209218e-01 -5.65997734e-01 -2.18813702e-01  2.01750171e-01\n",
      "  -2.37395517e-01 -1.42861601e-01]\n",
      " [ 0.00000000e+00 -2.64492952e-01  1.87024760e-01  3.29038384e-01\n",
      "  -1.87024760e-01 -6.61095393e-01  0.00000000e+00  1.91990224e-01\n",
      "   0.00000000e+00 -1.64519192e-01  0.00000000e+00  3.30547696e-01\n",
      "   0.00000000e+00  7.25027282e-02  0.00000000e+00 -1.64519192e-01\n",
      "   0.00000000e+00  3.30547696e-01]\n",
      " [ 0.00000000e+00 -8.76818281e-03  6.20004152e-03  1.09079228e-02\n",
      "  -6.20004152e-03 -3.93863346e-04  1.80852856e-03 -9.24634163e-02\n",
      "  -3.53546981e-02  4.77601486e-02  3.35461696e-02 -1.48263078e-01\n",
      "   2.29002746e-01  1.01231599e-01  5.37451087e-01 -5.86680714e-02\n",
      "  -7.66453834e-01  1.48656941e-01]\n",
      " [ 8.16496581e-01  0.00000000e+00 -4.08248290e-01  0.00000000e+00\n",
      "  -4.08248290e-01  0.00000000e+00  0.00000000e+00  0.00000000e+00\n",
      "   0.00000000e+00  0.00000000e+00  0.00000000e+00  0.00000000e+00\n",
      "   0.00000000e+00  0.00000000e+00  0.00000000e+00  0.00000000e+00\n",
      "   0.00000000e+00  0.00000000e+00]\n",
      " [ 0.00000000e+00 -2.28884041e-01  1.61845457e-01  2.84739666e-01\n",
      "  -1.61845457e-01  3.22434473e-01 -4.22592115e-01  3.47595776e-01\n",
      "   4.46100632e-01  6.03689335e-02 -2.35085169e-02 -2.67045772e-01\n",
      "   0.00000000e+00 -1.18711736e-01  0.00000000e+00 -3.45108599e-01\n",
      "   0.00000000e+00 -5.53887014e-02]\n",
      " [ 0.00000000e+00  9.53635458e-02 -6.74322099e-02 -1.18635551e-01\n",
      "   6.74322099e-02 -8.26390004e-02  4.58961459e-02  2.84257107e-01\n",
      "  -2.30021509e-01  9.65811858e-02  1.84125363e-01 -4.38930857e-01\n",
      "  -3.38536016e-01 -3.79620653e-01  1.87376877e-01  2.20543648e-02\n",
      "   1.51159139e-01  5.21569857e-01]\n",
      " [ 0.00000000e+00  1.15876178e-02 -8.19368315e-03 -1.44153975e-02\n",
      "   8.19368315e-03  8.17256930e-03 -8.16202045e-03  1.85700778e-01\n",
      "   1.00823063e-01 -1.17348029e-01 -9.26610426e-02  3.76532932e-01\n",
      "  -5.39898994e-01 -1.97288396e-01  5.42976487e-01  1.31763427e-01\n",
      "  -3.07749255e-03 -3.84705501e-01]\n",
      " [ 0.00000000e+00  5.16397779e-01  5.47722558e-01  0.00000000e+00\n",
      "  -5.47722558e-01  0.00000000e+00  0.00000000e+00 -2.58198890e-01\n",
      "   0.00000000e+00  0.00000000e+00  0.00000000e+00  0.00000000e+00\n",
      "   0.00000000e+00 -2.58198890e-01  0.00000000e+00  0.00000000e+00\n",
      "   0.00000000e+00  0.00000000e+00]\n",
      " [ 0.00000000e+00  1.25618859e-03 -8.88259473e-04 -1.56274207e-03\n",
      "   8.88259473e-04  4.92438824e-03  1.77230524e-02  5.36468010e-02\n",
      "  -3.93500161e-01  5.37632737e-01  3.75777109e-01  2.43790513e-01\n",
      "   0.00000000e+00 -5.49029896e-02  0.00000000e+00 -5.36069995e-01\n",
      "   0.00000000e+00 -2.48714901e-01]]\n"
     ]
    }
   ],
   "source": [
    "Eigenvalues_PBC, Eigenvectors_PBC = F_PBC.eigenSpace(eigvals = None)\n",
    "print(\"Autovalori della matrice: \")\n",
    "print(Eigenvalues_PBC)\n",
    "print(\"Autovettori della matrice: \")\n",
    "print(Eigenvectors_PBC)"
   ]
  },
  {
   "cell_type": "code",
   "execution_count": 39,
   "id": "31185d01-ded6-4d83-8a6c-c68b633a4d05",
   "metadata": {},
   "outputs": [
    {
     "name": "stdout",
     "output_type": "stream",
     "text": [
      "Confronto autovalori\n",
      "[2.66453526e-15 2.66453526e-15 2.66453526e-15 2.66453526e-15\n",
      " 2.66453526e-15 2.66453526e-15 1.00000000e+00 1.00000000e+00\n",
      " 1.00000000e+00 1.00000000e+00 1.00000000e+00 1.00000000e+00\n",
      " 3.00000000e+00 3.00000000e+00 3.00000000e+00 3.00000000e+00\n",
      " 3.00000000e+00 3.00000000e+00]\n",
      "[-2.66453526e-15 -1.33226763e-15  1.77635684e-15  1.77635684e-15\n",
      "  2.22044605e-15  2.22044605e-15  3.00000000e+00  3.00000000e+00\n",
      "  3.00000000e+00  3.00000000e+00  3.00000000e+00  3.00000000e+00\n",
      "  3.00000000e+00  3.00000000e+00  3.00000000e+00  3.00000000e+00\n",
      "  3.00000000e+00  3.00000000e+00]\n"
     ]
    }
   ],
   "source": [
    "print(\"Confronto autovalori\")\n",
    "print(Eigenvalues)\n",
    "print(Eigenvalues_PBC)"
   ]
  },
  {
   "cell_type": "code",
   "execution_count": null,
   "id": "8a6a34a0-4ea8-4522-91a3-577367d484bd",
   "metadata": {},
   "outputs": [],
   "source": []
  },
  {
   "cell_type": "code",
   "execution_count": null,
   "id": "015a1978-ca1c-4788-9505-bcc46f8d3e6f",
   "metadata": {},
   "outputs": [],
   "source": []
  },
  {
   "cell_type": "code",
   "execution_count": null,
   "id": "a9739d48-c41f-46d6-9785-71aa83c8148b",
   "metadata": {},
   "outputs": [],
   "source": []
  }
 ],
 "metadata": {
  "kernelspec": {
   "display_name": "Python 3 (ipykernel)",
   "language": "python",
   "name": "python3"
  },
  "language_info": {
   "codemirror_mode": {
    "name": "ipython",
    "version": 3
   },
   "file_extension": ".py",
   "mimetype": "text/x-python",
   "name": "python",
   "nbconvert_exporter": "python",
   "pygments_lexer": "ipython3",
   "version": "3.9.7"
  }
 },
 "nbformat": 4,
 "nbformat_minor": 5
}
